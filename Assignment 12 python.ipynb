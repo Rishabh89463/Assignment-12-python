{
 "cells": [
  {
   "cell_type": "code",
   "execution_count": 1,
   "id": "897034b9-6d53-4228-8d51-9a68d2f6ba9a",
   "metadata": {},
   "outputs": [],
   "source": [
    "# 1. In what modes should the PdfFileReader() and PdfFileWriter() File objects will be opened?"
   ]
  },
  {
   "cell_type": "code",
   "execution_count": 2,
   "id": "bf5ee039-18b4-4e2e-8b42-6cbdb0accfb7",
   "metadata": {},
   "outputs": [],
   "source": [
    "\n",
    "# When working with PdfFileReader() and PdfFileWriter() from the PyPDF2 library, you need to open the files in specific modes suitable for reading and writing PDF files:\n",
    "\n",
    "# PdfFileReader():\n",
    "\n",
    "# Open the file in binary read mode 'rb'.\n",
    "# PdfFileWriter():\n",
    "\n",
    "# When you save the output to a file, open the file in binary write mode 'wb'."
   ]
  },
  {
   "cell_type": "code",
   "execution_count": 3,
   "id": "2a6c0ba5-27cd-4a37-a90c-1d6c6d71cd9d",
   "metadata": {},
   "outputs": [],
   "source": [
    "# 2. From a PdfFileReader object, how do you get a Page object for page 5?"
   ]
  },
  {
   "cell_type": "code",
   "execution_count": 4,
   "id": "e8311c5f-14d4-4f8c-84a0-522b39e356b7",
   "metadata": {},
   "outputs": [],
   "source": [
    "# To get a Page object for page 5 from a PdfFileReader object, you can use the getPage() method. Note that page numbering is zero-based, so page 5 corresponds to index 4."
   ]
  },
  {
   "cell_type": "code",
   "execution_count": 5,
   "id": "1885ebfa-e9e1-4b44-8afb-fe4cc3a7a0e2",
   "metadata": {},
   "outputs": [],
   "source": [
    "# 3. What PdfFileReader variable stores the number of pages in the PDF document?"
   ]
  },
  {
   "cell_type": "code",
   "execution_count": 6,
   "id": "ade7b4d5-4869-4142-9ba5-0aa2d3e6b064",
   "metadata": {},
   "outputs": [],
   "source": [
    "# The PdfFileReader object in PyPDF2 has an attribute called numPages that stores the number of pages in the PDF document. You can access this attribute to get the total number of pages in the document.\n",
    "\n"
   ]
  },
  {
   "cell_type": "code",
   "execution_count": 7,
   "id": "1fbe20a7-3a84-48bc-96e3-e2577bfb5635",
   "metadata": {},
   "outputs": [],
   "source": [
    "# 4. If a PdfFileReader object’s PDF is encrypted with the password swordfish, what must you do\n",
    "# before you can obtain Page objects from it?"
   ]
  },
  {
   "cell_type": "code",
   "execution_count": 8,
   "id": "8ba5bb53-2b87-4651-8f89-f51ac379c70b",
   "metadata": {},
   "outputs": [],
   "source": [
    "# If a PdfFileReader object’s PDF is encrypted with the password swordfish, you must decrypt the PDF before you can obtain Page objects from it. You can do this using the decrypt() method of the PdfFileReader object."
   ]
  },
  {
   "cell_type": "code",
   "execution_count": 9,
   "id": "b9cdc014-0a97-4579-a713-55c8ecfe72a7",
   "metadata": {},
   "outputs": [],
   "source": [
    "# 5. What methods do you use to rotate a page?"
   ]
  },
  {
   "cell_type": "code",
   "execution_count": 10,
   "id": "0936f426-36f8-4898-ad9a-dfd347496302",
   "metadata": {},
   "outputs": [],
   "source": [
    "# To rotate a page in a PDF using PyPDF2, you can use the rotateClockwise(), rotateCounterClockwise(), or rotate() methods of the Page object. These methods rotate the page by the specified number of degrees.\n",
    "\n",
    "# Here is how you can use these methods:\n",
    "\n",
    "# rotateClockwise(degrees):\n",
    "# Rotates the page clockwise by the specified number of degrees (must be a multiple of 90).\n",
    "\n",
    "# rotateCounterClockwise(degrees):\n",
    "# Rotates the page counterclockwise by the specified number of degrees (must be a multiple of 90).\n",
    "\n",
    "# rotate(degrees):\n",
    "# Rotates the page by the specified number of degrees (positive values for clockwise, negative for counterclockwise)."
   ]
  },
  {
   "cell_type": "code",
   "execution_count": 11,
   "id": "18eb722c-da54-47e6-b1a1-ff5c96166dda",
   "metadata": {},
   "outputs": [],
   "source": [
    "# 6. What is the difference between a Run object and a Paragraph object?"
   ]
  },
  {
   "cell_type": "code",
   "execution_count": 12,
   "id": "1765afb4-cf66-466f-9f53-7199bcd88d69",
   "metadata": {},
   "outputs": [],
   "source": [
    "# In the context of working with Microsoft Word documents using the python-docx library, Run and Paragraph objects are fundamental elements used to manipulate text. Here's the difference between them:\n",
    "\n",
    "# Paragraph Object:\n",
    "\n",
    "# A Paragraph object represents a block of text that ends with a newline character.\n",
    "# It is a container for one or more Run objects.\n",
    "# Paragraphs can contain text with different styles and formatting.\n",
    "# You can access all paragraphs in a document using the document.paragraphs attribute.\n",
    "# Common methods and attributes include paragraph.text, paragraph.style, and paragraph.add_run().\n",
    "# Run Object:\n",
    "\n",
    "# A Run object represents a contiguous run of text within a Paragraph that shares the same character formatting.\n",
    "# It is a segment of text within a Paragraph and can have its own distinct formatting (such as bold, italic, underline).\n",
    "# You can access all runs within a paragraph using the paragraph.runs attribute.\n",
    "# Common methods and attributes include run.text, run.bold, run.italic, and run.font."
   ]
  },
  {
   "cell_type": "code",
   "execution_count": 13,
   "id": "dacceda0-67ca-4089-9599-efee259d2b88",
   "metadata": {},
   "outputs": [],
   "source": [
    "# 7. How do you obtain a list of Paragraph objects for a Document object that’s stored in a variable\n",
    "# named doc?"
   ]
  },
  {
   "cell_type": "code",
   "execution_count": 15,
   "id": "ba5ac65f-81c5-499a-89e0-0f6e10972bc6",
   "metadata": {},
   "outputs": [],
   "source": [
    "# # To obtain a list of Paragraph objects for a Document object in the python-docx library, you can use the paragraphs attribute of the Document object. If your Document object is stored in a variable named doc, you can get the list of paragraphs like this:\n",
    "\n",
    "# from docx import Document\n",
    "\n",
    "# # Assume 'doc' is a Document object\n",
    "# # For example, loading a document:\n",
    "# # doc = Document('example.docx')\n",
    "\n",
    "# # Get a list of Paragraph objects\n",
    "# paragraphs = doc.paragraphs\n",
    "\n",
    "# # Now you can iterate over the paragraphs list\n",
    "# for paragraph in paragraphs:\n",
    "#     print(paragraph.text)\n"
   ]
  },
  {
   "cell_type": "code",
   "execution_count": 16,
   "id": "9ded5338-6126-4ceb-96b3-9c5fa387df1e",
   "metadata": {},
   "outputs": [],
   "source": [
    "# 8. What type of object has bold, underline, italic, strike, and outline variables?"
   ]
  },
  {
   "cell_type": "code",
   "execution_count": 17,
   "id": "6c2c277e-0f72-4cc0-ab37-84c720b2dd9a",
   "metadata": {},
   "outputs": [],
   "source": [
    "# In the python-docx library, a Run object has the attributes bold, underline, italic, strike, and outline. These attributes allow you to get or set the corresponding character formatting for the text within the run."
   ]
  },
  {
   "cell_type": "code",
   "execution_count": 18,
   "id": "a1dbdc31-1bf8-469a-80a8-22ca55508ecc",
   "metadata": {},
   "outputs": [],
   "source": [
    "# 9. What is the difference between False, True, and None for the bold variable?"
   ]
  },
  {
   "cell_type": "code",
   "execution_count": 19,
   "id": "3f3d1033-c82a-4d13-bdb0-592817af81ec",
   "metadata": {},
   "outputs": [],
   "source": [
    "# For the bold variable in a Run object in python-docx:\n",
    "\n",
    "# False explicitly sets the text to not be bold.\n",
    "# True explicitly sets the text to be bold.\n",
    "# None means no explicit setting for boldness is applied, so the text inherits the default or parent style."
   ]
  },
  {
   "cell_type": "code",
   "execution_count": 20,
   "id": "f4ab8157-a449-4ba7-8c95-544b901dd6ee",
   "metadata": {},
   "outputs": [],
   "source": [
    "# 10. How do you create a Document object for a new Word document?"
   ]
  },
  {
   "cell_type": "code",
   "execution_count": 21,
   "id": "3197668d-7b3e-4147-9aae-9e85f7795d1a",
   "metadata": {},
   "outputs": [],
   "source": [
    "# To create a Document object for a new Word document using the python-docx library, you simply need to instantiate the Document class without any arguments."
   ]
  },
  {
   "cell_type": "code",
   "execution_count": 22,
   "id": "c1a6531d-83ed-4ed5-ab40-618adca6f9ef",
   "metadata": {},
   "outputs": [],
   "source": [
    "# 11. How do you add a paragraph with the text &#39;Hello, there!&#39; to a Document object stored in a\n",
    "# variable named doc?"
   ]
  },
  {
   "cell_type": "code",
   "execution_count": 24,
   "id": "12ab81f6-e4af-4eb4-b2e3-6244e0bc6a31",
   "metadata": {},
   "outputs": [],
   "source": [
    "# # To add a paragraph with the text 'Hello, there!' to a Document object stored in a variable named doc, you can use the add_paragraph() method.\n",
    "\n",
    "# from docx import Document\n",
    "\n",
    "# # Assume 'doc' is an existing Document object\n",
    "# # For example, creating a new Document object:\n",
    "# # doc = Document()\n",
    "\n",
    "# # Add a paragraph with the text 'Hello, there!'\n",
    "# doc.add_paragraph('Hello, there!')\n",
    "\n",
    "# # Save the document if needed\n",
    "# doc.save('updated_document.docx')\n"
   ]
  },
  {
   "cell_type": "code",
   "execution_count": 25,
   "id": "5db4ffb4-f2fb-4615-bd11-5867c7a833d2",
   "metadata": {},
   "outputs": [],
   "source": [
    "# 12. What integers represent the levels of headings available in Word documents?"
   ]
  },
  {
   "cell_type": "code",
   "execution_count": 26,
   "id": "dd255686-2c97-4d13-b92d-a6f92e6afd81",
   "metadata": {},
   "outputs": [],
   "source": [
    "# In Word documents, headings are organized into different levels, each represented by specific integers. The levels of headings available are:\n",
    "\n",
    "# 0: Normal text (not a heading)\n",
    "# 1: Heading 1\n",
    "# 2: Heading 2\n",
    "# 3: Heading 3\n",
    "# 4: Heading 4\n",
    "# 5: Heading 5\n",
    "# 6: Heading 6\n",
    "# 7: Heading 7\n",
    "# 8: Heading 8\n",
    "# 9: Heading 9"
   ]
  },
  {
   "cell_type": "code",
   "execution_count": null,
   "id": "715fa004-75f1-40d7-9b10-6cbefb1a0dba",
   "metadata": {},
   "outputs": [],
   "source": []
  }
 ],
 "metadata": {
  "kernelspec": {
   "display_name": "Python 3 (ipykernel)",
   "language": "python",
   "name": "python3"
  },
  "language_info": {
   "codemirror_mode": {
    "name": "ipython",
    "version": 3
   },
   "file_extension": ".py",
   "mimetype": "text/x-python",
   "name": "python",
   "nbconvert_exporter": "python",
   "pygments_lexer": "ipython3",
   "version": "3.10.8"
  }
 },
 "nbformat": 4,
 "nbformat_minor": 5
}
